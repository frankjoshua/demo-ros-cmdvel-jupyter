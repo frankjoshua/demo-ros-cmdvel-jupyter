{
 "cells": [
  {
   "cell_type": "markdown",
   "metadata": {},
   "source": [
    "# First import the ros python libraries"
   ]
  },
  {
   "cell_type": "code",
   "execution_count": 1,
   "metadata": {},
   "outputs": [],
   "source": [
    "import rospy as rp"
   ]
  },
  {
   "cell_type": "code",
   "execution_count": 2,
   "metadata": {},
   "outputs": [
    {
     "data": {
      "text/plain": [
       "['/rosapi',\n",
       " '/rosout',\n",
       " '/pocketbot_81ea',\n",
       " '/turtlesim',\n",
       " '/adafruit_motor_hat_node',\n",
       " '/base2laser',\n",
       " '/pocketbot_9542',\n",
       " '/play_1577601841121188761',\n",
       " '/play_1577601574036218983',\n",
       " '/slamware_ros_sdk_server_node',\n",
       " '/velocity_muxer',\n",
       " '/rqt_gui_py_node_1',\n",
       " '/android_15/visualization_view',\n",
       " '/rosbridge_websocket',\n",
       " '/map2odom']"
      ]
     },
     "execution_count": 2,
     "metadata": {},
     "output_type": "execute_result"
    }
   ],
   "source": [
    "import rosnode\n",
    "rosnode.get_node_names()"
   ]
  },
  {
   "cell_type": "markdown",
   "metadata": {},
   "source": [
    "# Create a node in order to send and recieve ROS messages"
   ]
  },
  {
   "cell_type": "code",
   "execution_count": 3,
   "metadata": {},
   "outputs": [
    {
     "data": {
      "text/plain": [
       "['/rosapi',\n",
       " '/rosout',\n",
       " '/pocketbot_81ea',\n",
       " '/turtlesim',\n",
       " '/adafruit_motor_hat_node',\n",
       " '/base2laser',\n",
       " '/pocketbot_9542',\n",
       " '/play_1577601841121188761',\n",
       " '/play_1577601574036218983',\n",
       " '/slamware_ros_sdk_server_node',\n",
       " '/velocity_muxer',\n",
       " '/rqt_gui_py_node_1',\n",
       " '/android_15/visualization_view',\n",
       " '/jupyter_demo',\n",
       " '/rosbridge_websocket',\n",
       " '/map2odom']"
      ]
     },
     "execution_count": 3,
     "metadata": {},
     "output_type": "execute_result"
    }
   ],
   "source": [
    "rp.init_node('jupyter_demo')\n",
    "rosnode.get_node_names()"
   ]
  },
  {
   "cell_type": "code",
   "execution_count": 4,
   "metadata": {},
   "outputs": [
    {
     "name": "stdout",
     "output_type": "stream",
     "text": [
      "Node [/turtlesim]\n",
      "Publications: \n",
      " * /rosout [rosgraph_msgs/Log]\n",
      " * /turtle1/color_sensor [turtlesim/Color]\n",
      " * /turtle1/pose [turtlesim/Pose]\n",
      "\n",
      "Subscriptions: \n",
      " * /turtle1/cmd_vel [unknown type]\n",
      "\n",
      "Services: \n",
      " * /clear\n",
      " * /kill\n",
      " * /reset\n",
      " * /spawn\n",
      " * /turtle1/set_pen\n",
      " * /turtle1/teleport_absolute\n",
      " * /turtle1/teleport_relative\n",
      " * /turtlesim/get_loggers\n",
      " * /turtlesim/set_logger_level\n",
      "\n"
     ]
    }
   ],
   "source": [
    "topicInfo = rosnode.get_node_info_description('/turtlesim')\n",
    "print(topicInfo)"
   ]
  },
  {
   "cell_type": "markdown",
   "metadata": {},
   "source": [
    "# List available topics"
   ]
  },
  {
   "cell_type": "code",
   "execution_count": 5,
   "metadata": {},
   "outputs": [
    {
     "data": {
      "text/plain": [
       "[['/horizontal_laser_2d', 'sensor_msgs/MultiEchoLaserScan'],\n",
       " ['/pocketbot/waypoint', 'sensor_msgs/NavSatFix'],\n",
       " ['/slamware_ros_sdk_server_node/map_metadata', 'nav_msgs/MapMetaData'],\n",
       " ['/slamware_ros_sdk_server_node/scan', 'sensor_msgs/LaserScan'],\n",
       " ['/slamware_ros_sdk_server_node/basic_sensors_info',\n",
       "  'slamware_ros_sdk/BasicSensorInfoArray'],\n",
       " ['/rosout_agg', 'rosgraph_msgs/Log'],\n",
       " ['/vertical_laser_2d', 'sensor_msgs/MultiEchoLaserScan'],\n",
       " ['/slamware_ros_sdk_server_node/map', 'nav_msgs/OccupancyGrid'],\n",
       " ['/pocketbot/fix', 'sensor_msgs/NavSatFix'],\n",
       " ['/client_count', 'std_msgs/Int32'],\n",
       " ['/pocketbot/heading', 'std_msgs/Float32'],\n",
       " ['/pocketbot/ai_speech_out', 'std_msgs/String'],\n",
       " ['/slamware_ros_sdk_server_node/virtual_walls',\n",
       "  'slamware_ros_sdk/Line2DFlt32Array'],\n",
       " ['/pocketbot/emotion', 'std_msgs/String'],\n",
       " ['/imu', 'sensor_msgs/Imu'],\n",
       " ['/pocketbot/face', 'geometry_msgs/Twist'],\n",
       " ['/slamware_ros_sdk_server_node/robot_device_info',\n",
       "  'slamware_ros_sdk/RobotDeviceInfo'],\n",
       " ['/cmd_vel', 'geometry_msgs/Twist'],\n",
       " ['/pocketbot/imu', 'sensor_msgs/Imu'],\n",
       " ['/slamware_ros_sdk_server_node/global_plan_path', 'nav_msgs/Path'],\n",
       " ['/rosout', 'rosgraph_msgs/Log'],\n",
       " ['/slamware_ros_sdk_server_node/odom', 'nav_msgs/Odometry'],\n",
       " ['/tf2_web_republisher/cancel', 'actionlib_msgs/GoalID'],\n",
       " ['/tf', 'tf2_msgs/TFMessage'],\n",
       " ['/slamware_ros_sdk_server_node/virtual_tracks',\n",
       "  'slamware_ros_sdk/Line2DFlt32Array'],\n",
       " ['/pocketbot/cmd_vel', 'geometry_msgs/Twist'],\n",
       " ['/turtle1/color_sensor', 'turtlesim/Color'],\n",
       " ['/pocketbot/speech', 'std_msgs/String'],\n",
       " ['/clock', 'rosgraph_msgs/Clock'],\n",
       " ['/slamware_ros_sdk_server_node/basic_sensors_values',\n",
       "  'slamware_ros_sdk/BasicSensorValueDataArray'],\n",
       " ['/slamware_ros_sdk_server_node/robot_basic_state',\n",
       "  'slamware_ros_sdk/RobotBasicState'],\n",
       " ['/turtle1/pose', 'turtlesim/Pose']]"
      ]
     },
     "execution_count": 5,
     "metadata": {},
     "output_type": "execute_result"
    }
   ],
   "source": [
    "rp.get_published_topics()"
   ]
  },
  {
   "cell_type": "markdown",
   "metadata": {},
   "source": [
    "# Move the turtle by sending messages to the '/turtle1/cmd_vel' topic"
   ]
  },
  {
   "cell_type": "code",
   "execution_count": 6,
   "metadata": {},
   "outputs": [
    {
     "name": "stdout",
     "output_type": "stream",
     "text": [
      "Type: geometry_msgs/Twist\n",
      "\n",
      "Publishers: None\n",
      "\n",
      "Subscribers: \n",
      " * /turtlesim (http://192.168.2.66:34045/)\n",
      "\n",
      "\n"
     ]
    }
   ],
   "source": [
    "import rostopic as rt\n",
    "topicInfo = rt.get_info_text('/turtle1/cmd_vel')\n",
    "print(topicInfo)"
   ]
  },
  {
   "cell_type": "markdown",
   "metadata": {},
   "source": [
    "# The '/turtle1/cmd_vel' topic is a Twist type"
   ]
  },
  {
   "cell_type": "code",
   "execution_count": 7,
   "metadata": {},
   "outputs": [
    {
     "name": "stdout",
     "output_type": "stream",
     "text": [
      "('geometry_msgs/Twist', '/turtle1/cmd_vel', None)\n"
     ]
    }
   ],
   "source": [
    "topicType = rt.get_topic_type('/turtle1/cmd_vel')\n",
    "print(topicType)"
   ]
  },
  {
   "cell_type": "code",
   "execution_count": 8,
   "metadata": {},
   "outputs": [
    {
     "name": "stdout",
     "output_type": "stream",
     "text": [
      "geometry_msgs/Vector3 linear\n",
      "  float64 x\n",
      "  float64 y\n",
      "  float64 z\n",
      "geometry_msgs/Vector3 angular\n",
      "  float64 x\n",
      "  float64 y\n",
      "  float64 z\n",
      "\n"
     ]
    },
    {
     "name": "stderr",
     "output_type": "stream",
     "text": [
      "[WARN] [1577768430.106304]: Failed to load Python extension for LZ4 support. LZ4 compression will not be available.\n"
     ]
    }
   ],
   "source": [
    "import rosmsg\n",
    "msgInfo = rosmsg.get_msg_text(topicType[0])\n",
    "print(msgInfo)"
   ]
  },
  {
   "cell_type": "markdown",
   "metadata": {},
   "source": [
    "# Twist message consists of 2 Vector3 messages. <br> Each containing 3 floats. X, Y and Z. <br> One for Linear motion and the second for Angular motion.  "
   ]
  },
  {
   "cell_type": "markdown",
   "metadata": {},
   "source": [
    "# Linear values are meters per second.<br>Angular values are radians per second."
   ]
  },
  {
   "cell_type": "markdown",
   "metadata": {},
   "source": [
    "# Create a publisher to send messages to a topic"
   ]
  },
  {
   "cell_type": "code",
   "execution_count": 9,
   "metadata": {},
   "outputs": [],
   "source": [
    "from geometry_msgs.msg import Twist\n",
    "publisher = rp.Publisher('turtle1/cmd_vel', Twist, queue_size=0)"
   ]
  },
  {
   "cell_type": "markdown",
   "metadata": {},
   "source": [
    "# To move the turtle forward send a Twist message with a positive linear x value to the 'turtle/cmd_vel' topic"
   ]
  },
  {
   "cell_type": "code",
   "execution_count": 10,
   "metadata": {},
   "outputs": [],
   "source": [
    "twistMessage = Twist()\n",
    "twistMessage.linear.x = 5.0\n",
    "\n",
    "publisher.publish(twistMessage)"
   ]
  },
  {
   "cell_type": "markdown",
   "metadata": {},
   "source": [
    "# Negative values will move the turtle backwards"
   ]
  },
  {
   "cell_type": "code",
   "execution_count": 11,
   "metadata": {},
   "outputs": [],
   "source": [
    "twistMessage.linear.x = -5.0\n",
    "publisher.publish(twistMessage)"
   ]
  },
  {
   "cell_type": "markdown",
   "metadata": {},
   "source": [
    "\n",
    "# Rotate counter clockwise by sending Twist message with angular z set to a positive value"
   ]
  },
  {
   "cell_type": "code",
   "execution_count": 12,
   "metadata": {},
   "outputs": [],
   "source": [
    "twistMessage.linear.x = 5.0\n",
    "twistMessage.angular.z = 6.2\n",
    "publisher.publish(twistMessage)"
   ]
  },
  {
   "cell_type": "markdown",
   "metadata": {},
   "source": [
    "# Clockwise with negative values"
   ]
  },
  {
   "cell_type": "code",
   "execution_count": 13,
   "metadata": {},
   "outputs": [],
   "source": [
    "twistMessage.angular.z = -3.0\n",
    "publisher.publish(twistMessage)"
   ]
  },
  {
   "cell_type": "code",
   "execution_count": 14,
   "metadata": {},
   "outputs": [],
   "source": [
    "publisher.publish(twistMessage)"
   ]
  },
  {
   "cell_type": "markdown",
   "metadata": {},
   "source": [
    "# Use standard python code to control the robot"
   ]
  },
  {
   "cell_type": "code",
   "execution_count": 15,
   "metadata": {},
   "outputs": [],
   "source": [
    "vel_msg = Twist()\n",
    "\n",
    "for n in range(5):\n",
    "    vel_msg.linear.x = 5\n",
    "    vel_msg.angular.z = 0\n",
    "    publisher.publish(vel_msg)\n",
    "    rp.sleep(0.5)\n",
    "    for i in range(15):\n",
    "        vel_msg.linear.x = 4 + n * n\n",
    "        vel_msg.angular.z = 100 / (i + 10)\n",
    "        publisher.publish(vel_msg)\n",
    "        rp.sleep(0.25)"
   ]
  },
  {
   "cell_type": "markdown",
   "metadata": {},
   "source": [
    "# Jupyter ROS can be used to create widgets to send messages"
   ]
  },
  {
   "cell_type": "code",
   "execution_count": 16,
   "metadata": {},
   "outputs": [
    {
     "data": {
      "application/vnd.jupyter.widget-view+json": {
       "model_id": "d58522a953d04bf68a2fce4d3e4e6eaa",
       "version_major": 2,
       "version_minor": 0
      },
      "text/plain": [
       "VBox(children=(Label(value='linear'), HBox(children=(Label(value='x', layout=Layout(width='100px')), FloatText…"
      ]
     },
     "metadata": {},
     "output_type": "display_data"
    }
   ],
   "source": [
    "import jupyros as jr\n",
    "from geometry_msgs.msg import Twist\n",
    "jr.publish('/turtle1/cmd_vel', Twist)"
   ]
  },
  {
   "cell_type": "markdown",
   "metadata": {},
   "source": [
    "### Right click to move the output to a new view"
   ]
  },
  {
   "cell_type": "markdown",
   "metadata": {},
   "source": [
    "# Echo topic"
   ]
  },
  {
   "cell_type": "code",
   "execution_count": 17,
   "metadata": {},
   "outputs": [
    {
     "data": {
      "application/vnd.jupyter.widget-view+json": {
       "model_id": "fc89713167a84cfb8de71addd9fe170f",
       "version_major": 2,
       "version_minor": 0
      },
      "text/plain": [
       "VBox(children=(HBox(children=(Button(description='Stop', style=ButtonStyle()),)), Output(layout=Layout(border=…"
      ]
     },
     "metadata": {},
     "output_type": "display_data"
    }
   ],
   "source": [
    "def callback(msg):\n",
    "    print(msg)\n",
    "jr.subscribe('/turtle1/cmd_vel', Twist, callback)"
   ]
  },
  {
   "cell_type": "code",
   "execution_count": 18,
   "metadata": {},
   "outputs": [
    {
     "data": {
      "text/plain": [
       "['/adafruit_motor_hat_node/get_loggers',\n",
       " '/base2laser/get_loggers',\n",
       " '/rosapi/delete_param',\n",
       " '/turtle1/teleport_relative',\n",
       " '/rosapi/action_servers',\n",
       " '/turtlesim/set_logger_level',\n",
       " '/rosapi/set_logger_level',\n",
       " '/rosbridge_websocket/set_logger_level',\n",
       " '/rosapi/service_host',\n",
       " '/rosbridge_websocket/get_loggers',\n",
       " '/rosapi/get_param_names',\n",
       " '/base2laser/set_logger_level',\n",
       " '/velocity_muxer/get_loggers',\n",
       " '/velocity_muxer/set_logger_level',\n",
       " '/rosapi/service_response_details',\n",
       " '/map2odom/get_loggers',\n",
       " '/rosapi/service_node',\n",
       " '/rosapi/services_for_type',\n",
       " '/adafruit_motor_hat_node/set_logger_level',\n",
       " '/play_1577601841121188761/pause_playback',\n",
       " '/turtlesim/get_loggers',\n",
       " '/rqt_gui_py_node_1/tf2_frames',\n",
       " '/rosapi/set_param',\n",
       " '/rosout/get_loggers',\n",
       " '/rosapi/get_param',\n",
       " '/rosapi/topics_for_type',\n",
       " '/rosapi/service_request_details',\n",
       " '/slamware_ros_sdk_server_node/sync_get_stcm',\n",
       " '/slamware_ros_sdk_server_node/get_loggers',\n",
       " '/rosapi/service_type',\n",
       " '/play_1577601841121188761/set_logger_level',\n",
       " '/rosapi/get_loggers',\n",
       " '/rosapi/has_param',\n",
       " '/jupyter_demo/get_loggers',\n",
       " '/clear',\n",
       " '/rosapi/topics',\n",
       " '/rosapi/topic_type',\n",
       " '/rqt_gui_py_node_1/get_loggers',\n",
       " '/play_1577601574036218983/pause_playback',\n",
       " '/map2odom/set_logger_level',\n",
       " '/slamware_ros_sdk_server_node/sync_set_stcm',\n",
       " '/rosapi/subscribers',\n",
       " '/rosout/set_logger_level',\n",
       " '/rosapi/publishers',\n",
       " '/rosapi/search_param',\n",
       " '/spawn',\n",
       " '/rosapi/get_time',\n",
       " '/reset',\n",
       " '/rqt_gui_py_node_1/set_logger_level',\n",
       " '/rosapi/services',\n",
       " '/jupyter_demo/set_logger_level',\n",
       " '/slamware_ros_sdk_server_node/set_logger_level',\n",
       " '/kill',\n",
       " '/rosapi/nodes',\n",
       " '/rosapi/node_details',\n",
       " '/rosapi/service_providers',\n",
       " '/play_1577601574036218983/set_logger_level',\n",
       " '/rosapi/message_details',\n",
       " '/turtle1/teleport_absolute',\n",
       " '/turtle1/set_pen',\n",
       " '/play_1577601841121188761/get_loggers']"
      ]
     },
     "execution_count": 18,
     "metadata": {},
     "output_type": "execute_result"
    }
   ],
   "source": [
    "import rosservice as rs\n",
    "rs.get_service_list()"
   ]
  },
  {
   "cell_type": "code",
   "execution_count": null,
   "metadata": {},
   "outputs": [],
   "source": []
  },
  {
   "cell_type": "code",
   "execution_count": null,
   "metadata": {},
   "outputs": [],
   "source": [
    "\n",
    "    "
   ]
  },
  {
   "cell_type": "code",
   "execution_count": 19,
   "metadata": {},
   "outputs": [
    {
     "data": {
      "text/plain": []
     },
     "execution_count": 19,
     "metadata": {},
     "output_type": "execute_result"
    }
   ],
   "source": [
    "from std_srvs.srv import Empty\n",
    "reset = rp.ServiceProxy('/reset', Empty)\n",
    "reset()"
   ]
  },
  {
   "cell_type": "code",
   "execution_count": 20,
   "metadata": {},
   "outputs": [
    {
     "data": {
      "application/vnd.jupyter.widget-view+json": {
       "model_id": "868b86e2dc564d6b83436606f911e2ed",
       "version_major": 2,
       "version_minor": 0
      },
      "text/plain": [
       "HTML(value='<img src=\"https://placekitten.com/g/300/150\">')"
      ]
     },
     "metadata": {},
     "output_type": "display_data"
    }
   ],
   "source": [
    "from IPython.core.display import display, HTML\n",
    "import ipywidgets as iw\n",
    "iw.HTML('<img src=\"https://placekitten.com/g/300/150\">')"
   ]
  },
  {
   "cell_type": "code",
   "execution_count": 21,
   "metadata": {},
   "outputs": [
    {
     "data": {
      "application/vnd.jupyter.widget-view+json": {
       "model_id": "f428490a42794a1ba0326cce8ca8523c",
       "version_major": 2,
       "version_minor": 0
      },
      "text/plain": [
       "IntSlider(value=50)"
      ]
     },
     "metadata": {},
     "output_type": "display_data"
    }
   ],
   "source": [
    "from ipywidgets import IntSlider\n",
    "slider = IntSlider(value=50)\n",
    "slider"
   ]
  },
  {
   "cell_type": "code",
   "execution_count": 22,
   "metadata": {},
   "outputs": [
    {
     "data": {
      "text/html": [
       "\n",
       "<script src=\"https://cdnjs.cloudflare.com/ajax/libs/nipplejs/0.7.3/nipplejs.min.js\"></script>\n",
       "<script>\n",
       "    var options = {\n",
       "        zone: document.getElementById('zone_joystick'),\n",
       "        color: 'blue',\n",
       "        mode: 'static',\n",
       "        position: {top: '50%', left: '50%'}\n",
       "    };\n",
       "    var manager = nipplejs.create(options);\n",
       "    manager.on('move', function(evt, data) {\n",
       "        debug.innerHTML = JSON.stringify(data.position);\n",
       "      })\n",
       "</script>\n",
       "<div id=\"zone_joystick\" style=\"height:250px;\">\n",
       "<div id=\"debug\"/>\n",
       "</div>\n"
      ],
      "text/plain": [
       "<IPython.core.display.HTML object>"
      ]
     },
     "metadata": {},
     "output_type": "display_data"
    }
   ],
   "source": [
    "javascript = '''\n",
    "<script src=\"https://cdnjs.cloudflare.com/ajax/libs/nipplejs/0.7.3/nipplejs.min.js\"></script>\n",
    "<script>\n",
    "    var options = {\n",
    "        zone: document.getElementById('zone_joystick'),\n",
    "        color: 'blue',\n",
    "        mode: 'static',\n",
    "        position: {top: '50%', left: '50%'}\n",
    "    };\n",
    "    var manager = nipplejs.create(options);\n",
    "    manager.on('move', function(evt, data) {\n",
    "        debug.innerHTML = JSON.stringify(data.position);\n",
    "      })\n",
    "</script>\n",
    "<div id=\"zone_joystick\" style=\"height:250px;\">\n",
    "<div id=\"debug\"/>\n",
    "</div>\n",
    "'''\n",
    "\n",
    "display(HTML(javascript))"
   ]
  },
  {
   "cell_type": "code",
   "execution_count": 23,
   "metadata": {},
   "outputs": [
    {
     "data": {
      "application/vnd.jupyter.widget-view+json": {
       "model_id": "ad17321e2aa5402dbeb043bf5272eb5c",
       "version_major": 2,
       "version_minor": 0
      },
      "text/plain": [
       "Viewer()"
      ]
     },
     "metadata": {},
     "output_type": "display_data"
    }
   ],
   "source": [
    "from jupyros import ros3d\n",
    "v = ros3d.Viewer()\n",
    "rc = ros3d.ROSConnection()\n",
    "tf_client = ros3d.TFClient(ros=rc, fixed_frame='/slamware_map')\n",
    "v"
   ]
  },
  {
   "cell_type": "code",
   "execution_count": 24,
   "metadata": {},
   "outputs": [],
   "source": [
    "laser_view = ros3d.LaserScan(topic=\"/slamware_ros_sdk_server_node/scan\", ros=rc, tf_client=tf_client)\n",
    "g = ros3d.GridModel()\n",
    "v.objects = [g, laser_view]"
   ]
  },
  {
   "cell_type": "code",
   "execution_count": 27,
   "metadata": {},
   "outputs": [],
   "source": [
    "laser_view.point_size = 1\n",
    "laser_view.static_color = \"green\""
   ]
  },
  {
   "cell_type": "code",
   "execution_count": 28,
   "metadata": {},
   "outputs": [
    {
     "data": {
      "text/html": [
       "<img src=\"http://192.168.2.84:8090/stream/video.mjpeg\" width=\"60%\"\" height=\"60%\"/>"
      ],
      "text/plain": [
       "<IPython.core.display.HTML object>"
      ]
     },
     "metadata": {},
     "output_type": "display_data"
    }
   ],
   "source": [
    "videoFeed = '<img src=\"http://192.168.2.84:8090/stream/video.mjpeg\" width=\"60%\"\" height=\"60%\"/>'\n",
    "display(HTML(videoFeed))"
   ]
  },
  {
   "cell_type": "code",
   "execution_count": null,
   "metadata": {},
   "outputs": [],
   "source": []
  }
 ],
 "metadata": {
  "kernelspec": {
   "display_name": "Python 3",
   "language": "python",
   "name": "python3"
  },
  "language_info": {
   "codemirror_mode": {
    "name": "ipython",
    "version": 3
   },
   "file_extension": ".py",
   "mimetype": "text/x-python",
   "name": "python",
   "nbconvert_exporter": "python",
   "pygments_lexer": "ipython3",
   "version": "3.7.3"
  }
 },
 "nbformat": 4,
 "nbformat_minor": 4
}
