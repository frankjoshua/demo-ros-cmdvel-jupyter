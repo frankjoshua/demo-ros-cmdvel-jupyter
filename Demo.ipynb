{
 "cells": [
  {
   "cell_type": "markdown",
   "metadata": {},
   "source": [
    "All code can be found at https://github.com/frankjoshua/demo-ros-cmdvel-jupyter"
   ]
  },
  {
   "cell_type": "markdown",
   "metadata": {},
   "source": [
    "# First import the ros python libraries"
   ]
  },
  {
   "cell_type": "code",
   "execution_count": 2,
   "metadata": {},
   "outputs": [],
   "source": [
    "import rospy as rp"
   ]
  },
  {
   "cell_type": "code",
   "execution_count": 3,
   "metadata": {},
   "outputs": [
    {
     "data": {
      "text/plain": [
       "['/rosout']"
      ]
     },
     "execution_count": 3,
     "metadata": {},
     "output_type": "execute_result"
    }
   ],
   "source": [
    "import rosnode\n",
    "rosnode.get_node_names()"
   ]
  },
  {
   "cell_type": "markdown",
   "metadata": {},
   "source": [
    "# Create a node in order to send and recieve ROS messages"
   ]
  },
  {
   "cell_type": "code",
   "execution_count": 4,
   "metadata": {},
   "outputs": [
    {
     "data": {
      "text/plain": [
       "['/rosout', '/jupyter_demo']"
      ]
     },
     "execution_count": 4,
     "metadata": {},
     "output_type": "execute_result"
    }
   ],
   "source": [
    "rp.init_node('jupyter_demo')\n",
    "rosnode.get_node_names()"
   ]
  },
  {
   "cell_type": "code",
   "execution_count": null,
   "metadata": {},
   "outputs": [],
   "source": [
    "topicInfo = rosnode.get_node_info_description('/turtlesim')\n",
    "print(topicInfo)"
   ]
  },
  {
   "cell_type": "markdown",
   "metadata": {},
   "source": [
    "#### ** Start Turtle sim **\n",
    "# List available topics"
   ]
  },
  {
   "cell_type": "code",
   "execution_count": 10,
   "metadata": {},
   "outputs": [
    {
     "data": {
      "text/plain": [
       "[['/turtle1/color_sensor', 'turtlesim/Color'],\n",
       " ['/rosout', 'rosgraph_msgs/Log'],\n",
       " ['/rosout_agg', 'rosgraph_msgs/Log'],\n",
       " ['/turtle1/pose', 'turtlesim/Pose']]"
      ]
     },
     "execution_count": 10,
     "metadata": {},
     "output_type": "execute_result"
    }
   ],
   "source": [
    "rp.get_published_topics() # Does not show unsubscribed topics"
   ]
  },
  {
   "cell_type": "markdown",
   "metadata": {},
   "source": [
    "# Move the turtle by sending messages to the '/turtle1/cmd_vel' topic"
   ]
  },
  {
   "cell_type": "code",
   "execution_count": 8,
   "metadata": {},
   "outputs": [
    {
     "name": "stdout",
     "output_type": "stream",
     "text": [
      "Type: geometry_msgs/Twist\n",
      "\n",
      "Publishers: None\n",
      "\n",
      "Subscribers: \n",
      " * /turtlesim (http://127.0.0.1:41107/)\n",
      "\n",
      "\n"
     ]
    }
   ],
   "source": [
    "import rostopic as rt\n",
    "topicInfo = rt.get_info_text('/turtle1/cmd_vel')\n",
    "print(topicInfo)"
   ]
  },
  {
   "cell_type": "markdown",
   "metadata": {},
   "source": [
    "# The '/turtle1/cmd_vel' topic is a Twist type"
   ]
  },
  {
   "cell_type": "code",
   "execution_count": 11,
   "metadata": {},
   "outputs": [
    {
     "name": "stdout",
     "output_type": "stream",
     "text": [
      "('geometry_msgs/Twist', '/turtle1/cmd_vel', None)\n"
     ]
    }
   ],
   "source": [
    "topicType = rt.get_topic_type('/turtle1/cmd_vel')\n",
    "print(topicType)"
   ]
  },
  {
   "cell_type": "code",
   "execution_count": 12,
   "metadata": {},
   "outputs": [
    {
     "name": "stdout",
     "output_type": "stream",
     "text": [
      "geometry_msgs/Vector3 linear\n",
      "  float64 x\n",
      "  float64 y\n",
      "  float64 z\n",
      "geometry_msgs/Vector3 angular\n",
      "  float64 x\n",
      "  float64 y\n",
      "  float64 z\n",
      "\n"
     ]
    },
    {
     "name": "stderr",
     "output_type": "stream",
     "text": [
      "[WARN] [1578021900.005735]: Failed to load Python extension for LZ4 support. LZ4 compression will not be available.\n"
     ]
    }
   ],
   "source": [
    "import rosmsg\n",
    "msgInfo = rosmsg.get_msg_text(topicType[0])\n",
    "print(msgInfo)"
   ]
  },
  {
   "cell_type": "markdown",
   "metadata": {},
   "source": [
    "# Twist message consists of 2 Vector3 messages. <br> Each containing 3 floats. X, Y and Z. <br> One for Linear motion and the second for Angular motion.  "
   ]
  },
  {
   "cell_type": "markdown",
   "metadata": {},
   "source": [
    "# Linear values are meters per second.<br>Angular values are radians per second."
   ]
  },
  {
   "cell_type": "markdown",
   "metadata": {},
   "source": [
    "# Create a publisher to send messages to a topic"
   ]
  },
  {
   "cell_type": "code",
   "execution_count": 13,
   "metadata": {},
   "outputs": [],
   "source": [
    "from geometry_msgs.msg import Twist\n",
    "publisher = rp.Publisher('turtle1/cmd_vel', Twist, queue_size=0)"
   ]
  },
  {
   "cell_type": "markdown",
   "metadata": {},
   "source": [
    "# To move the turtle forward send a Twist message with a positive linear x value to the 'turtle/cmd_vel' topic"
   ]
  },
  {
   "cell_type": "code",
   "execution_count": 14,
   "metadata": {},
   "outputs": [],
   "source": [
    "twistMessage = Twist()\n",
    "twistMessage.linear.x = 5.0\n",
    "\n",
    "publisher.publish(twistMessage)"
   ]
  },
  {
   "cell_type": "markdown",
   "metadata": {},
   "source": [
    "### The turtle will stop moving if no message is received for over one second. This behavior varies from robot to robot.\n",
    "# Negative values will move the turtle backwards"
   ]
  },
  {
   "cell_type": "code",
   "execution_count": 15,
   "metadata": {},
   "outputs": [],
   "source": [
    "twistMessage.linear.x = -5.0\n",
    "publisher.publish(twistMessage)"
   ]
  },
  {
   "cell_type": "markdown",
   "metadata": {},
   "source": [
    "\n",
    "# Rotate counter clockwise by sending Twist message with angular z set to a positive value"
   ]
  },
  {
   "cell_type": "code",
   "execution_count": 16,
   "metadata": {},
   "outputs": [],
   "source": [
    "twistMessage.linear.x = 5.0\n",
    "twistMessage.angular.z = 6.2\n",
    "publisher.publish(twistMessage)"
   ]
  },
  {
   "cell_type": "markdown",
   "metadata": {},
   "source": [
    "# Clockwise with negative values"
   ]
  },
  {
   "cell_type": "code",
   "execution_count": 17,
   "metadata": {},
   "outputs": [],
   "source": [
    "twistMessage.angular.z = -3.0\n",
    "publisher.publish(twistMessage)"
   ]
  },
  {
   "cell_type": "code",
   "execution_count": 18,
   "metadata": {},
   "outputs": [],
   "source": [
    "publisher.publish(twistMessage)"
   ]
  },
  {
   "cell_type": "markdown",
   "metadata": {},
   "source": [
    "# Use standard python code to control the robot"
   ]
  },
  {
   "cell_type": "code",
   "execution_count": 19,
   "metadata": {},
   "outputs": [],
   "source": [
    "vel_msg = Twist()\n",
    "\n",
    "for n in range(5):\n",
    "    vel_msg.linear.x = 5\n",
    "    vel_msg.angular.z = 0\n",
    "    publisher.publish(vel_msg)\n",
    "    rp.sleep(0.5)\n",
    "    for i in range(15):\n",
    "        vel_msg.linear.x = 4 + n * n\n",
    "        vel_msg.angular.z = 100 / (i + 10)\n",
    "        publisher.publish(vel_msg)\n",
    "        rp.sleep(0.25)"
   ]
  },
  {
   "cell_type": "markdown",
   "metadata": {},
   "source": [
    "# **Jupyter ROS** can be used to create widgets to send messages"
   ]
  },
  {
   "cell_type": "code",
   "execution_count": null,
   "metadata": {},
   "outputs": [],
   "source": [
    "import jupyros as jr\n",
    "from geometry_msgs.msg import Twist\n",
    "jr.publish('/turtle1/cmd_vel', Twist)"
   ]
  },
  {
   "cell_type": "markdown",
   "metadata": {},
   "source": [
    "### Right click to move the output to a new view"
   ]
  },
  {
   "cell_type": "markdown",
   "metadata": {},
   "source": [
    "# Echo topic"
   ]
  },
  {
   "cell_type": "code",
   "execution_count": null,
   "metadata": {},
   "outputs": [],
   "source": [
    "def callback(msg):\n",
    "    print(msg)\n",
    "jr.subscribe('/turtle1/cmd_vel', Twist, callback)"
   ]
  },
  {
   "cell_type": "code",
   "execution_count": null,
   "metadata": {},
   "outputs": [],
   "source": [
    "import rosservice as rs\n",
    "rs.get_service_list()"
   ]
  },
  {
   "cell_type": "code",
   "execution_count": null,
   "metadata": {},
   "outputs": [],
   "source": []
  },
  {
   "cell_type": "code",
   "execution_count": null,
   "metadata": {},
   "outputs": [],
   "source": [
    "\n",
    "    "
   ]
  },
  {
   "cell_type": "code",
   "execution_count": null,
   "metadata": {},
   "outputs": [],
   "source": [
    "from std_srvs.srv import Empty\n",
    "reset = rp.ServiceProxy('/reset', Empty)\n",
    "reset()"
   ]
  },
  {
   "cell_type": "code",
   "execution_count": null,
   "metadata": {},
   "outputs": [],
   "source": [
    "from IPython.core.display import display, HTML\n",
    "import ipywidgets as iw\n",
    "iw.HTML('<img src=\"https://placekitten.com/g/300/150\">')"
   ]
  },
  {
   "cell_type": "code",
   "execution_count": null,
   "metadata": {},
   "outputs": [],
   "source": [
    "from ipywidgets import IntSlider\n",
    "slider = IntSlider(value=50)\n",
    "slider"
   ]
  },
  {
   "cell_type": "code",
   "execution_count": null,
   "metadata": {},
   "outputs": [],
   "source": [
    "javascript = '''\n",
    "<script src=\"https://cdnjs.cloudflare.com/ajax/libs/nipplejs/0.7.3/nipplejs.min.js\"></script>\n",
    "<script>\n",
    "    var options = {\n",
    "        zone: document.getElementById('zone_joystick'),\n",
    "        color: 'blue',\n",
    "        mode: 'static',\n",
    "        position: {top: '50%', left: '50%'}\n",
    "    };\n",
    "    var manager = nipplejs.create(options);\n",
    "    manager.on('move', function(evt, data) {\n",
    "        debug.innerHTML = JSON.stringify(data.position);\n",
    "      })\n",
    "</script>\n",
    "<div id=\"zone_joystick\" style=\"height:250px;\">\n",
    "<div id=\"debug\"/>\n",
    "</div>\n",
    "'''\n",
    "\n",
    "display(HTML(javascript))"
   ]
  },
  {
   "cell_type": "code",
   "execution_count": null,
   "metadata": {},
   "outputs": [],
   "source": [
    "from jupyros import ros3d\n",
    "v = ros3d.Viewer()\n",
    "rc = ros3d.ROSConnection()\n",
    "tf_client = ros3d.TFClient(ros=rc, fixed_frame='/slamware_map')\n",
    "v"
   ]
  },
  {
   "cell_type": "code",
   "execution_count": null,
   "metadata": {},
   "outputs": [],
   "source": [
    "laser_view = ros3d.LaserScan(topic=\"/slamware_ros_sdk_server_node/scan\", ros=rc, tf_client=tf_client)\n",
    "g = ros3d.GridModel()\n",
    "v.objects = [g, laser_view]"
   ]
  },
  {
   "cell_type": "code",
   "execution_count": null,
   "metadata": {},
   "outputs": [],
   "source": [
    "laser_view.point_size = 1\n",
    "laser_view.static_color = \"green\""
   ]
  },
  {
   "cell_type": "code",
   "execution_count": null,
   "metadata": {},
   "outputs": [],
   "source": [
    "videoFeed = '<img src=\"http://192.168.2.84:8090/stream/video.mjpeg\" width=\"60%\"\" height=\"60%\"/>'\n",
    "display(HTML(videoFeed))"
   ]
  },
  {
   "cell_type": "code",
   "execution_count": null,
   "metadata": {},
   "outputs": [],
   "source": []
  }
 ],
 "metadata": {
  "kernelspec": {
   "display_name": "Python 3",
   "language": "python",
   "name": "python3"
  },
  "language_info": {
   "codemirror_mode": {
    "name": "ipython",
    "version": 3
   },
   "file_extension": ".py",
   "mimetype": "text/x-python",
   "name": "python",
   "nbconvert_exporter": "python",
   "pygments_lexer": "ipython3",
   "version": "3.7.3"
  }
 },
 "nbformat": 4,
 "nbformat_minor": 4
}
